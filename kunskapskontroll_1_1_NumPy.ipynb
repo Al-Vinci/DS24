{
 "cells": [
  {
   "cell_type": "markdown",
   "id": "dacf74e6",
   "metadata": {},
   "source": [
    "# NumPy"
   ]
  },
  {
   "cell_type": "markdown",
   "id": "01b2bf34",
   "metadata": {},
   "source": [
    "Read the links: https://numpy.org/doc/stable/user/quickstart.html  and https://numpy.org/doc/stable/user/basics.broadcasting.html  before solving the exercises. "
   ]
  },
  {
   "cell_type": "code",
   "execution_count": 6,
   "id": "1f79e4a6",
   "metadata": {},
   "outputs": [],
   "source": [
    "import numpy as np"
   ]
  },
  {
   "cell_type": "markdown",
   "id": "7dae6889",
   "metadata": {},
   "source": [
    "### Print out the dimension (number of axes), shape, size and the datatype of the matrix A."
   ]
  },
  {
   "cell_type": "code",
   "execution_count": 10,
   "id": "7b3678cd",
   "metadata": {},
   "outputs": [],
   "source": [
    "A = np.arange(1, 16).reshape(3,5)"
   ]
  },
  {
   "cell_type": "code",
   "execution_count": 13,
   "id": "31d39235",
   "metadata": {},
   "outputs": [
    {
     "data": {
      "text/plain": [
       "(3, 5)"
      ]
     },
     "execution_count": 13,
     "metadata": {},
     "output_type": "execute_result"
    }
   ],
   "source": [
    "A.shape"
   ]
  },
  {
   "cell_type": "markdown",
   "id": "e56d2a96",
   "metadata": {},
   "source": [
    "### Do the following computations on the matrices B and C: \n",
    "* Elementwise subtraction. \n",
    "* Elementwise multiplication. \n",
    "* Matrix multiplication (by default you should use the @ operator)."
   ]
  },
  {
   "cell_type": "code",
   "execution_count": 30,
   "id": "a7053fbb",
   "metadata": {},
   "outputs": [
    {
     "name": "stdout",
     "output_type": "stream",
     "text": [
      "[[1 2 3]\n",
      " [4 5 6]\n",
      " [7 8 9]]\n",
      "\n",
      "[[2. 2. 2.]\n",
      " [2. 2. 2.]\n",
      " [2. 2. 2.]]\n"
     ]
    }
   ],
   "source": [
    "B = np.arange(1, 10).reshape(3, 3)\n",
    "C = np.ones((3, 3))*2\n",
    "\n",
    "print(B)\n",
    "print()\n",
    "print(C)"
   ]
  },
  {
   "cell_type": "code",
   "execution_count": 33,
   "id": "3cd794ae",
   "metadata": {},
   "outputs": [
    {
     "name": "stdout",
     "output_type": "stream",
     "text": [
      "[[-1.  0.  1.]\n",
      " [ 2.  3.  4.]\n",
      " [ 5.  6.  7.]]\n",
      "\n",
      "[[ 2.  4.  6.]\n",
      " [ 8. 10. 12.]\n",
      " [14. 16. 18.]]\n",
      "\n",
      "[[12. 12. 12.]\n",
      " [30. 30. 30.]\n",
      " [48. 48. 48.]]\n"
     ]
    }
   ],
   "source": [
    "print(B-C)\n",
    "print()\n",
    "print(B*C)\n",
    "print()\n",
    "print(B@C)\n",
    "\n"
   ]
  },
  {
   "cell_type": "markdown",
   "id": "96030d53",
   "metadata": {},
   "source": [
    "### Do the following calculations on the matrix:\n",
    "* Exponentiate each number elementwise (use the np.exp function).\n",
    "\n",
    "* Calculate the minimum value in the whole matrix. \n",
    "* Calculcate the minimum value in each row. \n",
    "* Calculcate the minimum value in each column. \n",
    "\n",
    "\n",
    "* Find the index value for the minimum value in the whole matrix (hint: use np.argmin).\n",
    "* Find the index value for the minimum value in each row (hint: use np.argmin).\n",
    "\n",
    "\n",
    "* Calculate the sum for all elements.\n",
    "* Calculate the mean for each column. \n",
    "* Calculate the median for each column. "
   ]
  },
  {
   "cell_type": "code",
   "execution_count": 70,
   "id": "f8a9166b",
   "metadata": {},
   "outputs": [
    {
     "name": "stdout",
     "output_type": "stream",
     "text": [
      "[[1 2 3]\n",
      " [4 5 6]\n",
      " [7 8 9]]\n"
     ]
    }
   ],
   "source": [
    "B = np.arange(1, 10).reshape(3, 3)\n",
    "\n",
    "print(B)"
   ]
  },
  {
   "cell_type": "code",
   "execution_count": 122,
   "id": "f03f24f7",
   "metadata": {},
   "outputs": [
    {
     "name": "stdout",
     "output_type": "stream",
     "text": [
      "[[2.71828183e+00 7.38905610e+00 2.00855369e+01]\n",
      " [5.45981500e+01 1.48413159e+02 4.03428793e+02]\n",
      " [1.09663316e+03 2.98095799e+03 8.10308393e+03]] Exponentiate each number \n",
      "\n",
      "1 Minimum value in the whole matrix\n",
      "\n",
      "[1 4 7] Minimum value in each row\n",
      "\n",
      "[1 2 3] Minimum value in each column\n",
      "\n",
      "0 Index value for the minimum value in the whole matrix\n",
      "\n",
      "[0 0 0] Index for the minimum value in each row\n",
      "\n",
      "45 The sum of all elements\n",
      "[4. 5. 6.] The mean of each column\n",
      "[4. 5. 6.] The median of each column\n"
     ]
    }
   ],
   "source": [
    "print(np.exp(B),\"Exponentiate each number \\n\")\n",
    "print(np.min(B),\"Minimum value in the whole matrix\\n\")\n",
    "print(np.min(B, axis=1),\"Minimum value in each row\\n\")\n",
    "print(np.min(B, axis=0),\"Minimum value in each column\\n\")\n",
    "print(np.argmin(B),\"Index value for the minimum value in the whole matrix\\n\")\n",
    "print(np.argmin(B,axis=1),\"Index for the minimum value in each row\\n\")\n",
    "print(np.sum(B),'The sum of all elements')\n",
    "print(np.mean(B,axis=0), 'The mean of each column')\n",
    "print(np.median(B,axis=0), 'The median of each column')\n",
    "\n"
   ]
  },
  {
   "cell_type": "markdown",
   "id": "541eb7ba",
   "metadata": {},
   "source": [
    "### What does it mean when you provide fewer indices than axes when slicing? See example below."
   ]
  },
  {
   "cell_type": "code",
   "execution_count": 124,
   "id": "9c8abf56",
   "metadata": {},
   "outputs": [
    {
     "name": "stdout",
     "output_type": "stream",
     "text": [
      "[[ 1  2  3  4  5]\n",
      " [ 6  7  8  9 10]\n",
      " [11 12 13 14 15]]\n"
     ]
    }
   ],
   "source": [
    "print(A)"
   ]
  },
  {
   "cell_type": "code",
   "execution_count": 134,
   "id": "69415f7b",
   "metadata": {},
   "outputs": [
    {
     "data": {
      "text/plain": [
       "array([ 6,  7,  8,  9, 10])"
      ]
     },
     "execution_count": 134,
     "metadata": {},
     "output_type": "execute_result"
    }
   ],
   "source": [
    "A[1]\n"
   ]
  },
  {
   "cell_type": "markdown",
   "id": "6c53541b",
   "metadata": {},
   "source": [
    "**Answer:**"
   ]
  },
  {
   "cell_type": "code",
   "execution_count": 133,
   "id": "de01e120",
   "metadata": {},
   "outputs": [
    {
     "data": {
      "text/plain": [
       "array([ 6,  7,  8,  9, 10])"
      ]
     },
     "execution_count": 133,
     "metadata": {},
     "output_type": "execute_result"
    }
   ],
   "source": [
    "# It means that you include all the elements in the chosen axes. If you print out A[1,1] you will get the second row and the second column, 7. If you leave out 1 and write A[1] you will get the entire row. it's like writing A[1,:]. It works with multi dimensions as well. \n"
   ]
  },
  {
   "cell_type": "markdown",
   "id": "6652d0c9",
   "metadata": {},
   "source": [
    "### Iterating over multidimensional arrays is done with respect to the first axis, so in the example below we iterate trough the rows. If you would like to iterate through the array *elementwise*, how would you do that?"
   ]
  },
  {
   "cell_type": "code",
   "execution_count": 135,
   "id": "9459864f",
   "metadata": {},
   "outputs": [
    {
     "data": {
      "text/plain": [
       "array([[ 1,  2,  3,  4,  5],\n",
       "       [ 6,  7,  8,  9, 10],\n",
       "       [11, 12, 13, 14, 15]])"
      ]
     },
     "execution_count": 135,
     "metadata": {},
     "output_type": "execute_result"
    }
   ],
   "source": [
    "A"
   ]
  },
  {
   "cell_type": "code",
   "execution_count": 136,
   "id": "a671bb5a",
   "metadata": {},
   "outputs": [
    {
     "name": "stdout",
     "output_type": "stream",
     "text": [
      "[1 2 3 4 5]\n",
      "[ 6  7  8  9 10]\n",
      "[11 12 13 14 15]\n"
     ]
    }
   ],
   "source": [
    "for i in A:\n",
    "    print(i)"
   ]
  },
  {
   "cell_type": "code",
   "execution_count": 142,
   "id": "f4e443a0",
   "metadata": {},
   "outputs": [
    {
     "name": "stdout",
     "output_type": "stream",
     "text": [
      "1\n",
      "2\n",
      "3\n",
      "4\n",
      "5\n",
      "6\n",
      "7\n",
      "8\n",
      "9\n",
      "10\n",
      "11\n",
      "12\n",
      "13\n",
      "14\n",
      "15\n"
     ]
    }
   ],
   "source": [
    "for i in A:\n",
    "    for y in i:\n",
    "        print(y)"
   ]
  },
  {
   "cell_type": "markdown",
   "id": "608a2583",
   "metadata": {},
   "source": [
    "### Explain what the code below does. More specifically, b has three axes - what does this mean? "
   ]
  },
  {
   "cell_type": "code",
   "execution_count": 155,
   "id": "f8f9b26f",
   "metadata": {},
   "outputs": [
    {
     "name": "stdout",
     "output_type": "stream",
     "text": [
      "[ 0  1  2  3  4  5  6  7  8  9 10 11 12 13 14 15 16 17 18 19 20 21 22 23\n",
      " 24 25 26 27 28 29]\n",
      "\n",
      "[[[ 0  1  2  3  4]\n",
      "  [ 5  6  7  8  9]\n",
      "  [10 11 12 13 14]]\n",
      "\n",
      " [[15 16 17 18 19]\n",
      "  [20 21 22 23 24]\n",
      "  [25 26 27 28 29]]]\n"
     ]
    }
   ],
   "source": [
    "a = np.arange(30)\n",
    "b = a.reshape((2, 3, -1))\n",
    "print(a)\n",
    "print()\n",
    "print(b)\n"
   ]
  },
  {
   "cell_type": "code",
   "execution_count": null,
   "id": "863a45df",
   "metadata": {},
   "outputs": [],
   "source": [
    "# The code converts a series of numbers in a row (one dimension) to a tree dimensional structure. Now you can navigate trough the data in a more structural way. \n",
    " "
   ]
  },
  {
   "cell_type": "markdown",
   "id": "ab5933d5",
   "metadata": {},
   "source": [
    "### Broadcasting\n",
    "**Read the following link about broadcasting: https://numpy.org/doc/stable/user/basics.broadcasting.html#basics-broadcasting**"
   ]
  },
  {
   "cell_type": "markdown",
   "id": "039805ba",
   "metadata": {},
   "source": [
    "# Remark on Broadcasting when doing Linear Algebra calculations in Python. "
   ]
  },
  {
   "cell_type": "markdown",
   "id": "c4bcc147",
   "metadata": {},
   "source": [
    "### From the mathematical rules of matrix addition, the operation below (m1 + m2) does not make sense. The reason is that matrix addition requires two matrices of the same size. In Python however, it works due to broadcasting rules in NumPy. So you must be careful when doing Linear Algebra calculations in Python since they do not follow the \"mathematical rules\". This can however easily be handled by doing some simple programming, for example validating that two matrices have the same shape is easy if you for instance want to add two matrices. "
   ]
  },
  {
   "cell_type": "code",
   "execution_count": 156,
   "id": "1fd46778",
   "metadata": {},
   "outputs": [
    {
     "name": "stdout",
     "output_type": "stream",
     "text": [
      "[[2 3]\n",
      " [4 5]]\n"
     ]
    }
   ],
   "source": [
    "m1 = np.array([[1, 2], [3, 4]])\n",
    "m2 = np.array([1, 1])\n",
    "print(m1 + m2)"
   ]
  },
  {
   "cell_type": "markdown",
   "id": "047d6576",
   "metadata": {},
   "source": [
    "### The example below would also not be allowed if following the \"mathematical rules\" in Linear Algebra. But it works due to broadcasting in NumPy. "
   ]
  },
  {
   "cell_type": "code",
   "execution_count": 157,
   "id": "5e6ef2e4",
   "metadata": {},
   "outputs": [
    {
     "name": "stdout",
     "output_type": "stream",
     "text": [
      "[2 3 4]\n"
     ]
    }
   ],
   "source": [
    "v1 = np.array([1, 2, 3])\n",
    "print(v1 + 1)"
   ]
  },
  {
   "cell_type": "code",
   "execution_count": 158,
   "id": "e2cbae26",
   "metadata": {},
   "outputs": [
    {
     "name": "stdout",
     "output_type": "stream",
     "text": [
      "[[1 2]\n",
      " [3 4]]\n",
      "[2 2]\n"
     ]
    }
   ],
   "source": [
    "A = np.arange(1, 5).reshape(2,2)\n",
    "print(A)\n",
    "\n",
    "b = np.array([2, 2])\n",
    "print(b)"
   ]
  },
  {
   "cell_type": "markdown",
   "id": "722fd5cd",
   "metadata": {},
   "source": [
    "# Vector- and matrix algebra Exercises"
   ]
  },
  {
   "cell_type": "markdown",
   "id": "b63a3081-d976-4d9f-bfd0-a63917e79f7d",
   "metadata": {},
   "source": [
    "**Now you are going to create a function that can be reused every time you add or multiply matrices. The function is created so that we do the addition and multiplication according to the rules of vector- and matrix algebra.**\n",
    "\n",
    "**Create a function \"add_mult_matrices\" that takes two matrices as input arguments (validate that the input are of the type numpy.ndarray by using the isinstance function), a third argument that is either 'add' or 'multiply' that specifies if you want to add or multiply the matrices (validate that the third argument is either 'add' or 'multiply'). When doing matrix addition, validate that the matrices have the same size. When doing matrix multiplication, validate that the sizes conform (i.e. number of columns in the first matrix is equal to the number of rows in the second matrix).**"
   ]
  },
  {
   "cell_type": "code",
   "execution_count": 221,
   "id": "3506f977-ac0a-473f-85bc-eec9f35dc498",
   "metadata": {},
   "outputs": [
    {
     "name": "stdout",
     "output_type": "stream",
     "text": [
      "[[ 13  16  19  22  25]\n",
      " [ 27  34  41  48  55]\n",
      " [ 41  52  63  74  85]\n",
      " [ 55  70  85 100 115]\n",
      " [ 69  88 107 126 145]]\n"
     ]
    }
   ],
   "source": [
    "import numpy as np\n",
    "\n",
    "def add_mult_matrices(matrix_1, matrix_2, action):\n",
    "    if isinstance(matrix_1,np.ndarray) == True and isinstance(matrix_2,np.ndarray) == True:\n",
    "        if action == \"add\":\n",
    "            \n",
    "            if matrix_1.shape == matrix_2.shape:\n",
    "                return matrix_1 + matrix_2\n",
    "            \n",
    "            else:\n",
    "                print(\"The matrixes have different dimensions.\")\n",
    "                \n",
    "        elif action == \"multiply\":\n",
    "            if matrix_1.shape[1] == matrix_2.shape[0]:\n",
    "                return matrix_1 @ matrix_2\n",
    "            \n",
    "            else:\n",
    "                print(\"The number of columns in the first matrix is not equal to the number of rows in the second matrix.\")\n",
    "        \n",
    "    else:\n",
    "        print(\"At least one of the matrixes are not of the right type.\")\n",
    "            \n",
    "        pass\n",
    "        \n",
    "    \n",
    "\n",
    "M_1 = np.arange(1, 11).reshape(5, 2)\n",
    "M_2 = np.arange(1, 11).reshape(2, 5)\n",
    "M_3 = 5\n",
    "A_1 = 'add'\n",
    "A_2 = 'multiply'\n",
    "\n",
    "print(add_mult_matrices(M_1, M_2, A_2))\n",
    "\n"
   ]
  },
  {
   "cell_type": "markdown",
   "id": "8dad82d0-2359-4dff-8f5b-a57d3e34103c",
   "metadata": {},
   "source": [
    "### Solve all the exercises in chapter 10.1 in the book \"Matematik för yrkeshögskolan\". "
   ]
  },
  {
   "cell_type": "code",
   "execution_count": 97,
   "id": "89df88af-3668-4d98-a0a4-e6d92eea0f89",
   "metadata": {},
   "outputs": [
    {
     "name": "stdout",
     "output_type": "stream",
     "text": [
      "Vektorn har dimensionen (1, 2) \n",
      "\n",
      "[[20 15]] \n",
      "\n",
      "[[12  9]] \n",
      "\n",
      "[[32 24]] \n",
      "\n",
      "[[32 24]] \n",
      "\n"
     ]
    }
   ],
   "source": [
    "# 10.1.1\n",
    "import numpy as np\n",
    "import numpy.linalg as norm\n",
    "list_2 = [4,3]\n",
    "tio_var = np.array(list_2).reshape(1,2)\n",
    "# 10.1.1 a)\n",
    "print(\"Vektorn har dimensionen\", tio_var.shape,\"\\n\")\n",
    "# 10.1.1 b)\n",
    "print(tio_var * 5,\"\\n\")\n",
    "# 10.1.1 c)\n",
    "print(tio_var * 3,\"\\n\")\n",
    "# 10.1.1 d)\n",
    "print(tio_var * 3 + tio_var * 5,\"\\n\")\n",
    "# 10.1.1 e)\n",
    "print(tio_var * 8,\"\\n\")"
   ]
  },
  {
   "cell_type": "code",
   "execution_count": 105,
   "id": "a8df7cb3",
   "metadata": {},
   "outputs": [
    {
     "name": "stdout",
     "output_type": "stream",
     "text": [
      "[[12  9]] \n",
      "\n",
      "[[4]\n",
      " [3]] \n",
      " Transponerad blir vektorn (2, 1) \n",
      "\n",
      "Nej det är inte definierat eftersom de inte har samma dimension \n",
      "\n",
      "[[4 3]] \n",
      " 5.0 \n",
      "\n"
     ]
    }
   ],
   "source": [
    "\n",
    "# 10.1.1 f)\n",
    "print(tio_var*4-tio_var,\"\\n\")\n",
    "# 10.1.1 g)\n",
    "print(tio_var.transpose(), \"\\n Transponerad blir vektorn\", tio_var.transpose().shape,\"\\n\")\n",
    "# 10.1.1 h)\n",
    "print(\"Nej det är inte definierat eftersom de inte har samma dimension\",\"\\n\")\n",
    "# 10.1.1 i)\n",
    "print(tio_var, \"\\n\", np.linalg.norm(tio_var),\"\\n\")\n"
   ]
  },
  {
   "cell_type": "code",
   "execution_count": 150,
   "id": "702bd95a",
   "metadata": {},
   "outputs": [
    {
     "name": "stdout",
     "output_type": "stream",
     "text": [
      "Vektorn har dimensionen (4, 1) \n",
      "\n",
      "[[ 6]\n",
      " [14]\n",
      " [ 0]\n",
      " [22]] \n",
      "\n",
      "[[21]\n",
      " [49]\n",
      " [ 0]\n",
      " [77]] \n",
      "\n",
      "[[ 6]\n",
      " [14]\n",
      " [ 0]\n",
      " [22]] \n",
      "\n",
      "Transponerad blir vektorn  [[ 3  7  0 11]]  och vektorn får dimensionen (1, 4) \n",
      "\n",
      "||V|| blir  13.379088160259652 \n",
      "\n",
      "||V1|| blir  7.14142842854285 \n",
      "\n",
      "||V1|| - ||V2|| blir 4.47213595499958\n"
     ]
    }
   ],
   "source": [
    "list_1 = [3, 7, 0, 11]\n",
    "tio_var2 = np.array(list_1).reshape(4,1)\n",
    "\n",
    "# 10.1.2 a)\n",
    "print(\"Vektorn har dimensionen\", tio_var2.shape, \"\\n\")\n",
    "# 10.1.2 b)\n",
    "print(tio_var2 * 2, \"\\n\")\n",
    "# 10.1.2 c)\n",
    "print(tio_var2 * 5 + tio_var2 * 2, \"\\n\")\n",
    "# 10.1.2 d)\n",
    "print(tio_var2 * 4 - tio_var2 * 2, \"\\n\")\n",
    "# 10.1.2 e)\n",
    "print(\"Transponerad blir vektorn \",np.transpose(tio_var2), \" och vektorn får dimensionen\", np.transpose(tio_var2).shape, \"\\n\")\n",
    "# 10.1.2 f)\n",
    "print(\"||V|| blir \", np.linalg.norm(tio_var2),\"\\n\")\n",
    "# 10.1.3 a)\n",
    "list_3 = [4,3,1,5]\n",
    "list_4 = [2,3,1,1]\n",
    "tio_var3 = np.array(list_3)\n",
    "tio_var4 = np.array(list_4)\n",
    "print(\"||V1|| blir \", np.linalg.norm(tio_var3),\"\\n\")\n",
    "print(\"||V1|| - ||V2|| blir\", np.linalg.norm(tio_var3 - tio_var4))"
   ]
  },
  {
   "cell_type": "markdown",
   "id": "75c98984-1f88-4df1-b850-d2466de444a5",
   "metadata": {},
   "source": [
    "### Solve all the exercises, except 10.2.4, in chapter 10.2 in the book \"Matematik för yrkeshögskolan\". "
   ]
  },
  {
   "cell_type": "code",
   "execution_count": 161,
   "id": "65371610-16e1-48b2-b7fb-65e49002608a",
   "metadata": {},
   "outputs": [
    {
     "name": "stdout",
     "output_type": "stream",
     "text": [
      "10.2.1 a) \n",
      " [[ 4  2 -2]\n",
      " [ 2 -2  2]] \n",
      "\n",
      "10.2.1 b) \n",
      " [[ 0 -4  3]\n",
      " [ 0 -2 -4]] \n",
      "\n",
      "10.2.1 c)\n",
      " Är ej definierat eftersom C är (2, 2) och E är (2, 1). Men Python kommer fram till följande ändå: \n",
      " [[ 1  4]\n",
      " [ 2 -1]] \n",
      "\n",
      "10.2.1 d)\n",
      " [[3 2]\n",
      " [2 3]] \n",
      "\n",
      "10.2.1 e)\n",
      " [[ 9 12]\n",
      " [12  9]]\n"
     ]
    }
   ],
   "source": [
    "list_a = [2,1,-1,1,-1,1]\n",
    "list_b = [4,-2,1,2,-4,-2]\n",
    "list_c = [1,2,2,1]\n",
    "list_d = [3,4,4,3]\n",
    "list_e = [1,2]\n",
    "list_i = [1,0,0,1]\n",
    "ten_two_a = np.array(list_a).reshape(2,3)\n",
    "ten_two_b = np.array(list_b).reshape(2,3)\n",
    "ten_two_c = np.array(list_c).reshape(2,2)\n",
    "ten_two_d = np.array(list_d).reshape(2,2)\n",
    "ten_two_e = np.array(list_e).reshape(2,1)\n",
    "ten_two_i = np.array(list_i).reshape(2,2)\n",
    "\n",
    "# 10.2.1 a)\n",
    "print(\"10.2.1 a) \\n\", 2 * ten_two_a, \"\\n\")\n",
    "# 10.2.1 b)\n",
    "print(\"10.2.1 b) \\n\", ten_two_b-ten_two_a * 2, \"\\n\")\n",
    "# 10.2.1 c)\n",
    "print(f\"10.2.1 c)\\n Är ej definierat eftersom C är {ten_two_c.shape} och E är {ten_two_e.shape}. Men Python kommer fram till följande ändå: \\n\", 3 * ten_two_c - 2 * ten_two_e,\"\\n\")\n",
    "# 10.2.1 d)\n",
    "print(\"10.2.1 d)\\n\", 2 * ten_two_d - 3 * ten_two_c, \"\\n\")\n",
    "# 10.2.1 e)\n",
    "print(\"10.2.1 e)\\n\", ten_two_d.transpose() + 2 * ten_two_d)\n",
    "\n"
   ]
  },
  {
   "cell_type": "code",
   "execution_count": 190,
   "id": "dd57ec8a",
   "metadata": {},
   "outputs": [
    {
     "name": "stdout",
     "output_type": "stream",
     "text": [
      "10.2.1 f)\n",
      " [[-4 -4]\n",
      " [-4 -4]] \n",
      "\n",
      "10.2.1 g)\n",
      " Ej definierad. Ej samma dinension. Testade koden ten_two_a.transpose() - ten_two_b och denna gång hanterade inte Python det heller.\n",
      "\n",
      "10.2.1 h) Ej definierat, ej samma antal kolumner i A som rader i C\n",
      "\n",
      "10.2.1 i)\n",
      " [[11 10]\n",
      " [10 11]] \n",
      "\n",
      "10.2.1 j)\n",
      " [[  8 -10  -3]\n",
      " [ 10  -8   0]] \n",
      "\n",
      "10.2.1 k)\n",
      " [[1 2]\n",
      " [2 1]] \n",
      "\n",
      "10.2.1 l)\n",
      " [[5 2]\n",
      " [7 4]] \n",
      "\n",
      "10.2.2\n",
      " [[29 26]\n",
      " [26 42]] \n",
      "\n"
     ]
    }
   ],
   "source": [
    "# 10.2.1 f)\n",
    "print(\"10.2.1 f)\\n\", ten_two_c.transpose() * 2 - ten_two_d.transpose() * 2,\"\\n\")\n",
    "\n",
    "# 10.2.1 g)\n",
    "print(\"10.2.1 g)\\n\", \"Ej definierad. Ej samma dinension. Testade koden ten_two_a.transpose() - ten_two_b och denna gång hanterade inte Python det heller.\\n\")\n",
    "\n",
    "# 10.2.1 h)\n",
    "print(\"10.2.1 h)\", \"Ej definierat, ej samma antal kolumner i A som rader i C\\n\")\n",
    "\n",
    "# 10.2.1 i)\n",
    "print(\"10.2.1 i)\\n\", ten_two_c @ ten_two_d,\"\\n\")\n",
    "\n",
    "# 10.2.1 j)\n",
    "print(\"10.2.1 j)\\n\", ten_two_c @ ten_two_b,\"\\n\")\n",
    "\n",
    "# 10.2.1 k)\n",
    "print(\"10.2.1 k)\\n\", ten_two_c @ ten_two_i,\"\\n\")\n",
    "\n",
    "# 10.2.1 l)\n",
    "print(\"10.2.1 l)\\n\", ten_two_a @ ten_two_b.transpose(),\"\\n\")\n",
    "\n",
    "# 10.2.2\n",
    "list_2_2 = [2, 3, 4, 5, 4, 1]\n",
    "ten_two_two = np.array(list_2_2).reshape(2,3)\n",
    "print(\"10.2.2\\n\", ten_two_two @ ten_two_two.transpose(),\"\\n\")\n",
    "\n",
    "\n"
   ]
  },
  {
   "cell_type": "code",
   "execution_count": 226,
   "id": "1bfbf576",
   "metadata": {},
   "outputs": [
    {
     "name": "stdout",
     "output_type": "stream",
     "text": [
      "Hypotesen att AB är lika med AC, [[ True  True]\n",
      " [ True  True]] \n",
      " AB = \n",
      " [[ 4  7]\n",
      " [ 8 14]] \n",
      " AC = \n",
      " [[ 4  7]\n",
      " [ 8 14]] \n",
      " vilket är lika\n",
      "\n",
      "Hypotesen att B INTE är lika med C:  [[ True  True]\n",
      " [ True  True]] \n",
      " B = \n",
      " [[2 1]\n",
      " [1 3]] \n",
      " C= \n",
      " [[4 3]\n",
      " [0 2]]\n"
     ]
    }
   ],
   "source": [
    "# 10.2.3\n",
    "list_2_3_a = [1, 2, 2, 4]\n",
    "list_2_3_b = [2, 1, 1, 3]\n",
    "list_2_3_c = [4, 3, 0, 2]\n",
    "\n",
    "ten_two_three_a = np.array(list_2_3_a).reshape(2,2)\n",
    "ten_two_three_b = np.array(list_2_3_b).reshape(2,2)\n",
    "ten_two_three_c = np.array(list_2_3_c).reshape(2,2)\n",
    "\n",
    "print(\"Hypotesen att AB är lika med AC,\", ten_two_three_a @ ten_two_three_b == ten_two_three_a @ ten_two_three_c, \"\\n AB = \\n\", ten_two_three_a @ ten_two_three_b, \"\\n AC = \\n\", ten_two_three_a @ ten_two_three_c,\"\\n vilket är lika\\n\")\n",
    "print(\"Hypotesen att B INTE är lika med C: \", ten_two_three_b != ten_two_three_c, \"\\n B = \\n\", ten_two_three_b, \"\\n C= \\n\", ten_two_three_c)\n",
    "\n",
    "\n",
    "\n",
    "\n"
   ]
  },
  {
   "cell_type": "markdown",
   "id": "6a4a524f",
   "metadata": {},
   "source": [
    "### Copies and Views\n",
    "Read the following link: https://numpy.org/doc/stable/user/basics.copies.html"
   ]
  },
  {
   "cell_type": "markdown",
   "id": "6cbbeaf7",
   "metadata": {},
   "source": [
    "**Basic indexing creates a view, How can you check if v1 and v2 is a view or copy? If you change the last element in v2 to 123, will the last element in v1 be changed? Why?**"
   ]
  },
  {
   "cell_type": "code",
   "execution_count": 232,
   "id": "5b9ef4df",
   "metadata": {},
   "outputs": [
    {
     "name": "stdout",
     "output_type": "stream",
     "text": [
      "[0 1 2 3]\n",
      "[2 3]\n"
     ]
    }
   ],
   "source": [
    "v1 = np.arange(4)\n",
    "v2 = v1[-2:]\n",
    "print(v1)\n",
    "print(v2)"
   ]
  },
  {
   "cell_type": "code",
   "execution_count": 233,
   "id": "d2440489",
   "metadata": {},
   "outputs": [
    {
     "name": "stdout",
     "output_type": "stream",
     "text": [
      "None\n",
      "[0 1 2 3]\n"
     ]
    }
   ],
   "source": [
    "# The base attribute of a view returns the original array while it returns None for a copy.\n",
    "print(v1.base)\n",
    "print(v2.base)"
   ]
  },
  {
   "cell_type": "code",
   "execution_count": 234,
   "id": "c8752807",
   "metadata": {},
   "outputs": [
    {
     "name": "stdout",
     "output_type": "stream",
     "text": [
      "[  0   1   2 123]\n",
      "[  2 123]\n"
     ]
    }
   ],
   "source": [
    "# The last element in v1 will be changed aswell since v2 is a view, meaning they share the same data buffer.\n",
    "v2[-1] = 123\n",
    "\n",
    "print(v1)\n",
    "print(v2)"
   ]
  },
  {
   "cell_type": "code",
   "execution_count": 235,
   "id": "3dd68221",
   "metadata": {},
   "outputs": [],
   "source": [
    "# When you check the base value you will get the value None for a Copy and the array content if it is a View. \n",
    "# A View is pointing towards another array and if you change the original array you will also change the view array and vice versa. \n",
    "# If you create a Copy of another array you will however not change the copy if the original is changed and the original will not change if you change the copy."
   ]
  }
 ],
 "metadata": {
  "kernelspec": {
   "display_name": "base",
   "language": "python",
   "name": "python3"
  },
  "language_info": {
   "codemirror_mode": {
    "name": "ipython",
    "version": 3
   },
   "file_extension": ".py",
   "mimetype": "text/x-python",
   "name": "python",
   "nbconvert_exporter": "python",
   "pygments_lexer": "ipython3",
   "version": "3.11.5"
  }
 },
 "nbformat": 4,
 "nbformat_minor": 5
}
